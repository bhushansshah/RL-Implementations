{
 "cells": [
  {
   "cell_type": "code",
   "execution_count": 1,
   "id": "08d33a65",
   "metadata": {},
   "outputs": [],
   "source": [
    "import numpy as np"
   ]
  },
  {
   "cell_type": "code",
   "execution_count": 4,
   "id": "7153df1c",
   "metadata": {},
   "outputs": [],
   "source": [
    "policy = np.load(\"../weights/policy.npy\", allow_pickle=True)\n",
    "value_function = np.load(\"../weights/value_function.npy\")"
   ]
  },
  {
   "cell_type": "code",
   "execution_count": 5,
   "id": "48989601",
   "metadata": {},
   "outputs": [
    {
     "data": {
      "text/plain": [
       "21"
      ]
     },
     "execution_count": 5,
     "metadata": {},
     "output_type": "execute_result"
    }
   ],
   "source": [
    "len(policy)"
   ]
  },
  {
   "cell_type": "code",
   "execution_count": 6,
   "id": "5c54de47",
   "metadata": {},
   "outputs": [
    {
     "data": {
      "text/plain": [
       "21"
      ]
     },
     "execution_count": 6,
     "metadata": {},
     "output_type": "execute_result"
    }
   ],
   "source": [
    "len(policy[0])"
   ]
  },
  {
   "cell_type": "code",
   "execution_count": 7,
   "id": "319b673a",
   "metadata": {},
   "outputs": [
    {
     "data": {
      "text/plain": [
       "np.float64(0.0)"
      ]
     },
     "execution_count": 7,
     "metadata": {},
     "output_type": "execute_result"
    }
   ],
   "source": [
    "policy[0][0]"
   ]
  },
  {
   "cell_type": "code",
   "execution_count": 8,
   "id": "ceff3d52",
   "metadata": {},
   "outputs": [
    {
     "data": {
      "text/plain": [
       "array([[ 0.,  0.,  0.,  0.,  0.,  0.,  0., -1., -2., -3., -3., -4., -4.,\n",
       "        -4., -5., -5., -5., -5., -5., -5., -5.],\n",
       "       [ 0.,  0.,  0.,  0.,  0.,  0.,  0., -1., -2., -2., -3., -3., -3.,\n",
       "        -4., -4., -5., -5., -5., -5., -5., -5.],\n",
       "       [ 0.,  0.,  0.,  0.,  0.,  0.,  0., -1., -1., -2., -2., -2., -3.,\n",
       "        -3., -4., -4., -4., -5., -5., -5., -5.],\n",
       "       [ 0.,  0.,  0.,  0.,  0.,  0.,  0.,  0., -1., -1., -1., -2., -2.,\n",
       "        -3., -3., -3., -4., -4., -4., -5., -5.],\n",
       "       [ 0.,  0.,  0.,  0.,  0.,  0.,  0.,  0.,  0.,  0., -1., -1., -2.,\n",
       "        -2., -2., -3., -3., -3., -4., -4., -5.],\n",
       "       [ 1.,  1.,  1.,  0.,  0.,  0.,  0.,  0.,  0.,  0.,  0., -1., -1.,\n",
       "        -1., -2., -2., -2., -3., -3., -4., -4.],\n",
       "       [ 2.,  2.,  1.,  1.,  1.,  1.,  0.,  0.,  0.,  0.,  0.,  0.,  0.,\n",
       "        -1., -1., -1., -2., -2., -3., -3., -4.],\n",
       "       [ 3.,  2.,  2.,  2.,  2.,  1.,  1.,  0.,  0.,  0.,  0.,  0.,  0.,\n",
       "         0.,  0., -1., -1., -2., -2., -3., -4.],\n",
       "       [ 3.,  3.,  3.,  3.,  2.,  2.,  1.,  1.,  1.,  0.,  0.,  0.,  0.,\n",
       "         0.,  0.,  0., -1., -1., -2., -3., -3.],\n",
       "       [ 4.,  4.,  4.,  3.,  3.,  2.,  2.,  2.,  1.,  1.,  0.,  0.,  0.,\n",
       "         0.,  0.,  0.,  0., -1., -2., -2., -3.],\n",
       "       [ 5.,  5.,  4.,  4.,  3.,  3.,  3.,  2.,  2.,  1.,  1.,  1.,  0.,\n",
       "         0.,  0.,  0.,  0., -1., -1., -2., -3.],\n",
       "       [ 5.,  5.,  5.,  4.,  4.,  4.,  3.,  3.,  2.,  2.,  2.,  1.,  1.,\n",
       "         0.,  0.,  0.,  0.,  0., -1., -2., -2.],\n",
       "       [ 5.,  5.,  5.,  5.,  5.,  4.,  4.,  3.,  3.,  3.,  2.,  2.,  1.,\n",
       "         1.,  0.,  0.,  0.,  0., -1., -1., -2.],\n",
       "       [ 5.,  5.,  5.,  5.,  5.,  5.,  4.,  4.,  4.,  3.,  3.,  2.,  2.,\n",
       "         1.,  1.,  1.,  0.,  0.,  0., -1., -2.],\n",
       "       [ 5.,  5.,  5.,  5.,  5.,  5.,  5.,  5.,  4.,  4.,  3.,  3.,  2.,\n",
       "         2.,  2.,  1.,  1.,  0.,  0., -1., -1.],\n",
       "       [ 5.,  5.,  5.,  5.,  5.,  5.,  5.,  5.,  5.,  4.,  4.,  3.,  3.,\n",
       "         3.,  2.,  2.,  1.,  0.,  0.,  0., -1.],\n",
       "       [ 5.,  5.,  5.,  5.,  5.,  5.,  5.,  5.,  5.,  5.,  4.,  4.,  4.,\n",
       "         3.,  3.,  2.,  1.,  1.,  0.,  0., -1.],\n",
       "       [ 5.,  5.,  5.,  5.,  5.,  5.,  5.,  5.,  5.,  5.,  5.,  5.,  4.,\n",
       "         4.,  3.,  2.,  2.,  1.,  1.,  0.,  0.],\n",
       "       [ 5.,  5.,  5.,  5.,  5.,  5.,  5.,  5.,  5.,  5.,  5.,  5.,  5.,\n",
       "         4.,  3.,  3.,  2.,  2.,  1.,  1.,  0.],\n",
       "       [ 5.,  5.,  5.,  5.,  5.,  5.,  5.,  5.,  5.,  5.,  5.,  5.,  5.,\n",
       "         4.,  4.,  3.,  3.,  2.,  2.,  1.,  0.],\n",
       "       [ 5.,  5.,  5.,  5.,  5.,  5.,  5.,  5.,  5.,  5.,  5.,  5.,  5.,\n",
       "         5.,  4.,  4.,  3.,  3.,  2.,  1.,  0.]])"
      ]
     },
     "execution_count": 8,
     "metadata": {},
     "output_type": "execute_result"
    }
   ],
   "source": [
    "policy"
   ]
  },
  {
   "cell_type": "code",
   "execution_count": null,
   "id": "8ca2ced1",
   "metadata": {},
   "outputs": [],
   "source": []
  }
 ],
 "metadata": {
  "kernelspec": {
   "display_name": "venv",
   "language": "python",
   "name": "python3"
  },
  "language_info": {
   "codemirror_mode": {
    "name": "ipython",
    "version": 3
   },
   "file_extension": ".py",
   "mimetype": "text/x-python",
   "name": "python",
   "nbconvert_exporter": "python",
   "pygments_lexer": "ipython3",
   "version": "3.13.6"
  }
 },
 "nbformat": 4,
 "nbformat_minor": 5
}
